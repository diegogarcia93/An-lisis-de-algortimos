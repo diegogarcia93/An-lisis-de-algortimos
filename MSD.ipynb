{
 "cells": [
  {
   "cell_type": "markdown",
   "metadata": {},
   "source": [
    "                                                PROYECTO 2\n",
    "                                                \n",
    "(MST). Dado un grafo G = (V, E) con n vertices y m aristas. (El grafo podría representar una red telefónica). Cada arista es coloreada azul o roja. Tambien esta dado un parámetro k como parte de la entrada. Proponga un algoritmo que encuentre un árbol de expansión sobre G con exactamente k aristas azules, y exactamente n-k-1 aristas rojas. Determine el tiempo de ejecución del algoritmo y muestre que es correcto.                                                "
   ]
  },
  {
   "cell_type": "code",
   "execution_count": null,
   "metadata": {
    "collapsed": true
   },
   "outputs": [],
   "source": [
    "import numpy as np\n",
    "import re\n",
    "from collections import namedtuple"
   ]
  },
  {
   "cell_type": "code",
   "execution_count": null,
   "metadata": {
    "collapsed": true
   },
   "outputs": [],
   "source": [
    "def crearMatriz():\n",
    "    tupla=nombreTupla(\"tupla\",[\"primero\",\"segundo\"])\n",
    "    a=np.zeros()\n",
    "    return a\n",
    "\n",
    "def coneccion(a,x,y):\n",
    "    return c[x][y]\n",
    "\n",
    "def listaDeConecciones(a,x,zetha):\n",
    "    tam=len(a)\n",
    "    lista=[]\n",
    "    for i in range (tam):\n",
    "        if a[x,i] != inf:\n",
    "            lista.insert(c)\n",
    "    return            \n",
    "    "
   ]
  },
  {
   "cell_type": "code",
   "execution_count": null,
   "metadata": {
    "collapsed": true
   },
   "outputs": [],
   "source": [
    "def encontrar (vert)    \n",
    "    if padre[vert]!= vert:\n",
    "        padre[vert]=encontrar(padre[vert])\n",
    "    return padre[vert]  \n",
    "\n",
    "\n",
    "def prioridad(a):\n",
    "    for i\n",
    "    padre=dict()\n",
    "    num= dict()\n",
    "    \n",
    "def unir(vert1, vert2):\n",
    "    raiz1 = encontrar(vert1)\n",
    "    raiz2 = encontrar(vert2)\n",
    "    if raiz1 != raiz2:\n",
    "        if num[raiz1] < num[raiz2]:\n",
    "            padre[raiz1] = raiz2\n",
    "        else:\n",
    "            padre[riaz2]= raiz1\n",
    "            if num[raiz1] == num[raiz2]:\n",
    "                num[raiz2] += 1       \n",
    "    \n",
    "def modificar(vert):\n",
    "    padre[vert]=vert\n",
    "    num[vert]=0    "
   ]
  },
  {
   "cell_type": "code",
   "execution_count": null,
   "metadata": {
    "collapsed": true
   },
   "outputs": [],
   "source": [
    "def kruskal (graph, azul,rojo,k,n)\n",
    "    for vert in graph['vertices']:\n",
    "        modificar(vert)\n",
    "    arbolExpansionMin = set()\n",
    "    limites = list(graph['limites'])\n",
    "    limites.sort()\n",
    "    for limite in limites:\n",
    "        peso, vert1, vert2 =limite\n",
    "        if encontrar(vert1) != encontrar(vert2):\n",
    "            unir(vert1,vert2)\n",
    "            arbolExpansionMin.add(limite)\n",
    "    return arbolExpansionMin\n",
    "\n",
    "def merge(red,blue,n,matriz,k,x):\n",
    "    x= crearMatriz()\n",
    "    for i in range(0,matriz)\n",
    "        for j in range(0,matriz):\n",
    "            if red[k,i]==blue[x,j]:\n",
    "                n[k,i] = red[k,i]\n",
    "                return merge(red,blue,n,matriz,k+1,x+1)\n",
    "            else:\n",
    "                if red[k,i]<blue[x,j]:\n",
    "                    x[k,i]= red[k,i]\n",
    "                    return merge(red,blue,n,matriz,k,x+1)\n",
    "                else:\n",
    "                    x[k,i]=blue[x,j]\n",
    "                    return merge(red,blue,n,matriz,k+1,x)\n",
    "    \n",
    "\n",
    "graph = {\n",
    "        'vertices': ['A','B','C','D','E','F'],\n",
    "        'limites': set([(1,'A','B'),(5,'A','C'),(3,'A','D'),\n",
    "                        (4,'B','C'),(2,'B','D'),(1,'C','D')])\n",
    "       \n",
    "}\n",
    "\n",
    "arbolExpansionMin = set ([(1,'A','B'),(2,'B','D'),(1,'C','D')])\n",
    "assert kruskañ(graph) == arbolExpansionMin\n",
    "rojo=0\n",
    "azul=1\n",
    "print ([i for i in re.split (r'(\\d+|\\W+)','x+13.5*10x-4e1')if i])"
   ]
  },
  {
   "cell_type": "code",
   "execution_count": null,
   "metadata": {
    "collapsed": true
   },
   "outputs": [],
   "source": [
    "def leer(arc):\n",
    "    file=open(arc,'r')\n",
    "    matriz = file.readfile()\n",
    "    k=file.readline()\n",
    "    n=matriz-k-1\n",
    "    k=int(k)\n",
    "    n=int(n)\n",
    "    rojo=0\n",
    "    azul=0\n",
    "    vec=[]\n",
    "    vec=crearMatriz()\n",
    "    millos=crearMatriz()\n",
    "    river=crearMatriz()\n",
    "    matriz = int(matriz)\n",
    "    for j in range (0,matriz)\n",
    "        a[i,j]=([i for i in re.split(r'(\\d+|\\W+)','x+13.5*10x-4e1')if i])\n",
    "    river = kruskal(matriz,azul,rojo,k,n)\n",
    "    millos= kruskal(matriz,azul,rojo,k,n)\n",
    "    "
   ]
  }
 ],
 "metadata": {
  "kernelspec": {
   "display_name": "Python 3",
   "language": "python",
   "name": "python3"
  },
  "language_info": {
   "codemirror_mode": {
    "name": "ipython",
    "version": 3
   },
   "file_extension": ".py",
   "mimetype": "text/x-python",
   "name": "python",
   "nbconvert_exporter": "python",
   "pygments_lexer": "ipython3",
   "version": "3.5.2"
  }
 },
 "nbformat": 4,
 "nbformat_minor": 1
}
