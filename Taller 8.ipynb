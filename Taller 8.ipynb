{
 "cells": [
  {
   "cell_type": "markdown",
   "metadata": {},
   "source": [
    "What is the intersection between two line segments Si and Sj?"
   ]
  },
  {
   "cell_type": "code",
   "execution_count": null,
   "metadata": {
    "collapsed": true
   },
   "outputs": [],
   "source": [
    "def interseccion(p1,p2,q1,q2):\n",
    "    m1 = (p2[1]-p1[1])/(p2[0]-p1[0])\n",
    "    m2 = (q2[1]-q1[1])/(q2[0]-q1[0])   \n",
    "    b1 = p2[1] - (m1 * p2[0])\n",
    "    b2 = q2[1] - (m2 * q2[0])  \n",
    "    x = (b2-b1)/(m1-m2)\n",
    "    y = (m1 * x) + b1  \n",
    "    if( (x >= p1[0] and x <= p2[0]) or (x >= p2[0] and x <= p1[0]) ):\n",
    "        if( (x >= q1[0] and x <= q2[0]) or (x >= q2[0] and x <= q1[0]) ):\n",
    "            if( (y >= p1[1] and y <= p2[1]) or (y >= p2[1] and y <= p1[1]) ):\n",
    "                if( (y >= q1[1] and y <= q2[1]) or (y >= q2[1] and y <= q1[1]) ):\n",
    "                    print \"La intesección es en el punto \" , x, y\n",
    "                    return\n",
    "    print \"En la recta no hay intersecciones\"   \n",
    "P1 = [0.,0.]\n",
    "P2 = [4.,4.]\n",
    "P3 = [0.,4.]\n",
    "P4 = [4.,0.]\n",
    "interseccion(P1, P2,P3,P4)"
   ]
  },
  {
   "cell_type": "markdown",
   "metadata": {},
   "source": [
    "Is a given point $P$ contained in the line segment $S$?"
   ]
  },
  {
   "cell_type": "code",
   "execution_count": null,
   "metadata": {
    "collapsed": true
   },
   "outputs": [],
   "source": [
    "def contenido(pto1,pto2,pto1):\n",
    "    m1 = (pto2[1]-pto1[1])/(pto2[0]-pto1[0])\n",
    "    b1 = pto2[1] - (m1 * pto2[0])\n",
    "    m2 = (q1[1]-pto1[1])/(q1[0]-pto1[0])\n",
    "    b2 = q1[1] - (m2 * q1[0]) \n",
    "    x = q1[0]\n",
    "    y = q1[1]\n",
    "    if (m1 == m2 and b1 == b2):\n",
    "        if( (x >= pto1[0] and x <= pto2[0]) or (x >= pto2[0] and x <= ptp1[0]) ):\n",
    "            if( (y >= pto1[1] and y <= pto2[1]) or (y >= pto2[1] and y <= pto1[1]) ):\n",
    "                print \"El punto si existe en la recta\"\n",
    "                return\n",
    "    print \"El punto no existe en la recta\"\n",
    "Pto1 = [0.,0.]\n",
    "Pto2 = [1.,1.]\n",
    "Pto3 = [3.,3.]\n",
    "contenido(Pto1,Pto2,Pto3)"
   ]
  },
  {
   "cell_type": "markdown",
   "metadata": {},
   "source": [
    "What is the distance from a point P to the line L?"
   ]
  },
  {
   "cell_type": "code",
   "execution_count": null,
   "metadata": {
    "collapsed": true
   },
   "outputs": [],
   "source": [
    "def distanciaPuntoLinea(Line1 , P1):\n",
    "    print \"La distancia entre la linea y el punto es: \" , L1.distance(P1)\n",
    "    L1 = Line(P1, P2)\n",
    "    distanciaPuntoLinea(L1,P4)"
   ]
  },
  {
   "cell_type": "markdown",
   "metadata": {},
   "source": [
    "What is an ortogonal line L_i which intersect L_j at an arbitrary point?"
   ]
  },
  {
   "cell_type": "code",
   "execution_count": null,
   "metadata": {
    "collapsed": true
   },
   "outputs": [],
   "source": [
    "def LineaPerpendicular(Line1 , P1):\n",
    "    L2 = Line1.perpendicular_line(P1)  \n",
    "    print \"La linea perpendicular a Li y que es intersectada con Lj : \" , L2.equation()\n",
    "L1 = Line(P1, P2)\n",
    "LineaPerpendicular(L1,P3)"
   ]
  },
  {
   "cell_type": "markdown",
   "metadata": {},
   "source": [
    "What is a line L_i parallel to L_j with a distance d?"
   ]
  },
  {
   "cell_type": "code",
   "execution_count": null,
   "metadata": {
    "collapsed": true
   },
   "outputs": [],
   "source": [
    "def LineaParalela(Line1 , d):\n",
    "    p1,p2 = L1.points;\n",
    "    p1 = p1.translate(d);\n",
    "    L2 = Line1.parallel_line(p1) \n",
    "    print \"La linea paralela a Li con distancia d: \", L2.equation()\n",
    "L1 = Line(P1, P2)\n",
    "LineaParalela(L1,3)"
   ]
  }
 ],
 "metadata": {
  "kernelspec": {
   "display_name": "Python 3",
   "language": "python",
   "name": "python3"
  },
  "language_info": {
   "codemirror_mode": {
    "name": "ipython",
    "version": 3
   },
   "file_extension": ".py",
   "mimetype": "text/x-python",
   "name": "python",
   "nbconvert_exporter": "python",
   "pygments_lexer": "ipython3",
   "version": "3.5.2"
  }
 },
 "nbformat": 4,
 "nbformat_minor": 1
}
