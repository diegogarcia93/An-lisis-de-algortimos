{
 "cells": [
  {
   "cell_type": "code",
   "execution_count": null,
   "metadata": {
    "collapsed": true
   },
   "outputs": [],
   "source": [
    "\n",
    "DIEGO FERNANDO GARCIA HERNANDEZ\n",
    "\n",
    "1. \n",
    "\n",
    "  Operación       \t    z       \tCosto    \tTotal\n",
    "Inicializacion  \talgorithm   \t 0       \t 0\n",
    "derecha         \talgorithm   \t 0      \t 0\n",
    "derecha          \talgorithm   \t 0       \t 0\n",
    "reemplazar (por n)\tangorithm   \t 4       \t 4\n",
    "reemplazar (por a)\tanaorithm   \t 4      \t 8\n",
    "reemplazar (por l)\tanalrithm   \t 4      \t12\n",
    "Reemplazar (por y)\tanalyithm   \t 4      \t16\n",
    "Reemplazar (por s)\tanalysthm   \t 4      \t20\n",
    "Reemplazar (por i)\tanalysihm   \t 4      \t24\n",
    "Reemplazar (por s)\tanalysism   \t 4      \t28\n",
    "eliminar         \tanalysis     \t 2      \t30\n",
    "\n",
    "\n",
    "Operación\t\t\tz\t\tCosto\t\tTotal\n",
    "Inicializacion \t\talgorithm\t\t0\t\t0\n",
    "derecha\t\t\talgorithm\t\t0\t\t0\n",
    "derecha \t\talgorithm\t\t0\t\t0\n",
    "remplazar (por n)\tangorithm\t\t4\t\t4\n",
    "remplazar (por a)\tanaorithm\t\t4\t\t8\n",
    "remplazar (por l)\tanalrithm\t\t4\t\t12\n",
    "remplazar (por y)\tanalyithm\t\t4\t\t16\n",
    "insertar S\t\tanalysithm\t\t3\t\t19\n",
    "derecha\t\t\tanalysithm\t\t0\t\t19\n",
    "insertar S\t\tanalysisthm\t\t3\t\t22\t\n",
    "eliminar\t\tanalysishm\t\t2\t\t24\n",
    "eliminar\t\tanalysism\t\t2\t\t26\n",
    "eliminar\t\tanalysis\t\t2\t\t28\n",
    "\n",
    "\n",
    "\n",
    "2.\n",
    "\n",
    "Operacion\t\t\tz\t\tCosto\t\ttotal\n",
    "cadena inicial\t\talgorithm\t\t0\t\t0\t\n",
    "derecha\t\t\talgorithm\t\t0\t\t0\n",
    "insertar n\t\tanlgorithm\t\t3\t\t3\n",
    "insertar a\t\tanalgorithm\t\t3\t\t6\n",
    "derecha\t\t\tanalgorithm\t\t0\t\t6\n",
    "remplazar por y\t\tanalyorithm\t\t4\t\t10\n",
    "remplazar por s\t\tanalysrithm\t\t4\t\t14\n",
    "remplazar por i\t\tanalysiithm\t\t4\t\t18\n",
    "remplazar por s\t\tanalysisthm\t\t4\t\t22\n",
    "eliminar\t\tanalysishm\t\t2\t\t24\n",
    "eliminar\t\tanalysism\t\t2\t\t26\n",
    "eliminar \t\tanalysis\t\t2\t\t28\n",
    "\n",
    "3.\n",
    "\n",
    "Se puede calcular la distancia de edicion para las cadenas x e y encontrando la distancia de edicion en subproblemas, \n",
    "por medio de una funcion de costo\n",
    "\n",
    "\t\tCxy (i, j) = d (x, y [1 .i]  x [j + 1 .m])\n",
    "\n",
    "donde, Cxy(i,j) es el costo mínimo de transformar el primer caracter j de x en el primer caracter i  de y.\n",
    "Entonces d (x, y) = cxy (n, m). Ahora considere la secuencia de operaciones S = (o1,o2,...,On) que transforma x a y\n",
    "con costo C(S)= d(x,y). \n",
    "\n",
    "Sea Si la subsecuencia de S que contiene las primera operaciones de S. Sea Zi la cadena axiliar despues de realizar \n",
    "las operaciones de Si, donde Z0 = x Y zK = y.\n",
    "\n",
    "4.\n",
    "\n",
    "Se puede encontrar la distancia usando la ecuación\n",
    "\n",
    "\t\tCxy (i, j) = d (x, y [1 .i]  x [j + 1 .m])\n",
    "\n",
    "\n",
    "C_xy (i,j)=minf{\n",
    "\t\t\t[0   \t\t\tsi i=0 y j=0]\n",
    "\t\t\t[C_xy (i-1,j-1)\t\tsi 1>0 y j>0 y x(i-1)=y(j-1)]\n",
    "\t\t\t[C_xy (i-1,j-1)+4\tsi i>0 y j>0]\n",
    "\t\t\t[C_xy (i-1,j)+2\t\tsi i>0]\n",
    "\t\t\t[C_xy (i,j-1)+3\t\t\t]\n",
    "\t\t}\n",
    "\n",
    "\n",
    "\n",
    "\n",
    "\n",
    "\n"
   ]
  },
  {
   "cell_type": "code",
   "execution_count": null,
   "metadata": {
    "collapsed": true
   },
   "outputs": [],
   "source": [
    "#5.\n",
    "\n",
    "def distance(cadena1, cadena2):\n",
    "  d=dict()\n",
    "  for i in range(len(cadena1)+1):\n",
    "     d[i]=dict()\n",
    "     d[i][0]=i\n",
    "  for i in range(len(cadena2)+1):\n",
    "     d[0][i] = i\n",
    "  for i in range(1, len(cadena1)+1):\n",
    "     for j in range(1, len(cadena2)+1):\n",
    "        d[i][j] = min(d[i][j-1]+1, d[i-1][j]+1, d[i-1][j-1]+(not cadena1[i-1] == cadena2[j-1]))\n",
    "  return d[len(cadena1)][len(cadena2)]"
   ]
  },
  {
   "cell_type": "code",
   "execution_count": null,
   "metadata": {
    "collapsed": true
   },
   "outputs": [],
   "source": [
    "#el tiempo de ejecucion de este algortimo es de Ô(mn)"
   ]
  },
  {
   "cell_type": "code",
   "execution_count": null,
   "metadata": {
    "collapsed": true
   },
   "outputs": [],
   "source": [
    "#6.\n",
    "\n",
    "\n",
    "a = \"software engineering \" \n",
    "b = \"computer science\" \n",
    "sem = 0 \n",
    " \n",
    "if len(a) > len(b): a, b = b, a \n",
    " \n",
    "ref = b \n",
    "for letra in a: \n",
    "    if letra in b: \n",
    "        sem += 1 \n",
    "        b = b.replace(letra, \"\", 1) \n",
    " \n",
    "print \"'%s' y '%s' difieren en: %i\" %(a, ref, len(ref) - sem) "
   ]
  }
 ],
 "metadata": {
  "kernelspec": {
   "display_name": "Python 3",
   "language": "python",
   "name": "python3"
  },
  "language_info": {
   "codemirror_mode": {
    "name": "ipython",
    "version": 3
   },
   "file_extension": ".py",
   "mimetype": "text/x-python",
   "name": "python",
   "nbconvert_exporter": "python",
   "pygments_lexer": "ipython3",
   "version": "3.5.2"
  }
 },
 "nbformat": 4,
 "nbformat_minor": 1
}
