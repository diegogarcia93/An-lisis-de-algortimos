{
 "cells": [
  {
   "cell_type": "markdown",
   "metadata": {},
   "source": [
    "\n",
    "TALLER 6\n",
    "\n",
    "Primer punto\n",
    "Implemente un método para crear grafos aleatorios de $n$ vertices, donde con probabilidad $\\psi \\in [0,1]$ definira si exite una arista entre cada par de vertices $(i,j)$. El peso $\\omega(i,j) \\in [minw, maxw]$ se asignará de manera aleatoria uniformemente en el intervalo $[minw, maxw]$"
   ]
  },
  {
   "cell_type": "code",
   "execution_count": null,
   "metadata": {
    "collapsed": true
   },
   "outputs": [],
   "source": [
    "import random\n",
    "import numpy as np\n",
    "\n",
    "def crear(omega, n, minw, maxw):\n",
    "    Grafo = {};\n",
    "    m = np.ones((n , n) ) * float('inf')\n",
    "    for i in range(n):\n",
    "        vec = {};\n",
    "        for j in range(n):\n",
    "            if i <> j:\n",
    "                a = random.randrange(0.0,100.0)\n",
    "                b = a/100.0\n",
    "                if(b > omega):\n",
    "                    weight = random.randrange(minw,maxw)\n",
    "                    vec[str(j)] = weight;\n",
    "                    m[i,j] = weight;\n",
    "            else:\n",
    "                m[i,j] = 0;\n",
    "        Grafo[str(i)] = vec;\n",
    "    \n",
    "    return Grafo, mat"
   ]
  },
  {
   "cell_type": "code",
   "execution_count": null,
   "metadata": {
    "collapsed": true
   },
   "outputs": [],
   "source": [
    "crear( 2 , 3 , 7 , 12, 7 )"
   ]
  },
  {
   "cell_type": "markdown",
   "metadata": {},
   "source": [
    "Tercer punto\n",
    "Adapte el algoritmo de Bellman-Ford para calcular todos los pares de rutas más cortas"
   ]
  },
  {
   "cell_type": "code",
   "execution_count": null,
   "metadata": {
    "collapsed": true
   },
   "outputs": [],
   "source": [
    "\n",
    "def BellmanFord(Grafos,start):\n",
    "    D = {} \n",
    "    for v in Grafos:\n",
    "        D[v] = float('inf')\n",
    "    D[start] = 0\n",
    "    P = {} \n",
    "    for i in range(len(Grafos)-1):\n",
    "        for j in Grafos:\n",
    "            for k in Grafos[j]:   \n",
    "                sum = D[j] + Grafos[j][k]\n",
    "                if sum < D[k]:\n",
    "                    P[k] = j\n",
    "                    D[k] = sum\n",
    "    for x in Grafos:\n",
    "        for y in Grafos[x]:   \n",
    "            sum = D[x] + Grafos[x][y]\n",
    "            if sum < D[y]: print(\"Negative cicle\",x,y)          \n",
    "    return D,P\n",
    "\n",
    "def BellmanFord2(Grafo):\n",
    "    vec={};\n",
    "    for i in Grafo:\n",
    "        X = BellmanFord(Grafo, i);\n",
    "        vec[i] = X;\n",
    "    return vec;"
   ]
  },
  {
   "cell_type": "code",
   "execution_count": null,
   "metadata": {
    "collapsed": true
   },
   "outputs": [],
   "source": [
    "Grafo = {'a': {'c':13, 'd':5,'b':8},\n",
    "        'b': {'a':6, 'd':2},\n",
    "        'c': {'b':4, 'a':9},\n",
    "        'd':{'c':3,'b':5,'a':2},\n",
    "       \n",
    "\n",
    "print(BellmanFordJoin(G))"
   ]
  },
  {
   "cell_type": "markdown",
   "metadata": {},
   "source": [
    "Cuarto Punto\n",
    "Implemente el algoritmo de BFS para calcular todos los pares de rutas más cortas (asumiendo que la longitud de la ruta esta dada por la cantidad de aristas que interviene más no por su peso)"
   ]
  },
  {
   "cell_type": "code",
   "execution_count": null,
   "metadata": {
    "collapsed": true
   },
   "outputs": [],
   "source": [
    "import Queue\n",
    "def busquedaAnchura(Grafo):  \n",
    "    con={}\n",
    "    for i in Grafo:\n",
    "        q = Queue.Queue()\n",
    "        check=[]\n",
    "        q.put(i)\n",
    "       \n",
    "    while not q.empty():\n",
    "            v=q.get()\n",
    "            if j not in check:\n",
    "                check.append(j)\n",
    "                \n",
    "                for k in Grafo[j]:\n",
    "                    if k not in check:\n",
    "                        q.put(k)                \n",
    "        con[i]=check\n",
    "        \n",
    "    return(con) \n",
    "\n",
    "Grafo = {'a': {'c':13, 'd':5,'b':8},\n",
    "        'b': {'a':6, 'd':2},\n",
    "        'c': {'b':4, 'a':9},\n",
    "        'd':{'c':3,'b':5,'a':2},\n",
    "         \n",
    "print(busquedaAnchura(Grafo))"
   ]
  }
 ],
 "metadata": {
  "kernelspec": {
   "display_name": "Python 3",
   "language": "python",
   "name": "python3"
  },
  "language_info": {
   "codemirror_mode": {
    "name": "ipython",
    "version": 3
   },
   "file_extension": ".py",
   "mimetype": "text/x-python",
   "name": "python",
   "nbconvert_exporter": "python",
   "pygments_lexer": "ipython3",
   "version": "3.5.2"
  }
 },
 "nbformat": 4,
 "nbformat_minor": 1
}
