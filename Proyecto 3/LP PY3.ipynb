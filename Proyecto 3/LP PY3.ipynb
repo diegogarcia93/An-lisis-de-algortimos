{
 "cells": [
  {
   "cell_type": "markdown",
   "metadata": {},
   "source": [
    "                                                PROYECTO 3\n",
    "                                                \n",
    "                                                \n",
    "(LP) Suponga que se planea contruir una nueva cadena de tiendas en una ciudad dada, usted tiene identificado una serie de ubicaciones potenciales en diferentes barrios. Además asuma que la demanda de productos en cada barrio de la ciudad es conocida. Si usted quiere construir exactamente k tiendas,  ¿dónde debería localizarlas de forma que minimice la distancia promedio de los clientes? ¿Si en lugar usted dese construir una cantidad variable de tiendas, y el costo de construir una tienda en cada sitio es conocido, ¿dónde debería construir las tiendas de forma que minimice el costo total del construcción y la distancia promedio de los clientes?                                                "
   ]
  },
  {
   "cell_type": "code",
   "execution_count": null,
   "metadata": {
    "collapsed": false
   },
   "outputs": [],
   "source": [
    "import networkx\n",
    "import itertools\n",
    "import logging\n",
    "import time\n",
    "import math\n",
    "import numpy as np\n",
    "import pylab as pl"
   ]
  },
  {
   "cell_type": "code",
   "execution_count": null,
   "metadata": {
    "collapsed": false
   },
   "outputs": [],
   "source": [
    "def distanciaHamming(cdn1,cdn2):\n",
    "    dist=0\n",
    "    for ltr1,ltr2 in zip(cdn1, cdn2):\n",
    "        if ch1 != ch2:\n",
    "            dist+=1\n",
    "    return dist       \n",
    "def hamming_binary(chromosome_len,d):\n",
    "    \"\"\"Generate a binary Hamming Graph, where each genotype is composed by chromosome_len bases and each base can take only two values. H(chromosome_len, 2). \n",
    "    \n",
    "    steps to generate an Hamming graph:\n",
    "    \n",
    "     * create 2^chromosome_len nodes, each for a different binary string\n",
    "     * for each node, find the connected nodes by flipping one position at a time.\n",
    "    \"\"\"\n",
    "    space = networkx.Graph()\n",
    "    # create all nodes\n",
    "    l = [\"01\"] * chromosome_len \n",
    "    all_nodes = itertools.product(*l)\n",
    "    all_nodes = [''.join(x) for x in all_nodes]\n",
    "    logging.debug(all_nodes)\n",
    "    space.add_nodes_from(all_nodes) \n",
    "    \n",
    "    # for each node, find neighbors\n",
    "    for node in space.nodes():    \n",
    "            #[space.add_edge(node, mutate_node(node, base)) for base in range(chromosome_len)]\n",
    "            for vert in space.nodes():\n",
    "                if(vert!= node): \n",
    "                    distancia=distanciaHamming(node,vert)\n",
    "                    if(dist >= d):\n",
    "                        space.add_edge(node,vert)\n",
    "    return space"
   ]
  },
  {
   "cell_type": "code",
   "execution_count": null,
   "metadata": {
    "collapsed": true
   },
   "outputs": [],
   "source": [
    "def mutate_node(node, n):\n",
    "    # wonder if there is some binary utils package for python\n",
    "    if node[n] == '0':\n",
    "        newbase = '1'\n",
    "    else:\n",
    "        newbase = '0'\n",
    "    new_node = node[0:n] + newbase + node[n+1:]\n",
    "    return new_node"
   ]
  },
  {
   "cell_type": "code",
   "execution_count": null,
   "metadata": {
    "collapsed": false
   },
   "outputs": [],
   "source": [
    "def experAnalysis(N):\n",
    "    vec=[]\n",
    "    for i in range(N):\n",
    "        inicio=time.clock()\n",
    "        lapso=hamming_binary(i,2)\n",
    "        fin=time.clock()\n",
    "        vec.append(fin-inicio)\n",
    "    return vec    \n",
    "N=5\n",
    "print experAnalysis(N)\n",
    "\n",
    "pl.clf()\n",
    "x = np.arange(100)\n",
    "y = np.array(experAnalysis(100))\n",
    "pl.plot(x, y, 'k.')"
   ]
  },
  {
   "cell_type": "markdown",
   "metadata": {},
   "source": [
    "Segundo algoritmo"
   ]
  },
  {
   "cell_type": "code",
   "execution_count": null,
   "metadata": {
    "collapsed": true
   },
   "outputs": [],
   "source": [
    "def floyd_warshall(distancia):    \n",
    "    for i in range(len(distancia)):\n",
    "        for j in range(len(distancia)):\n",
    "            for k in range(len(distancia)):\n",
    "                if(distancia[j][i]+distancia[i][k]<distancia[j][k]):\n",
    "                    distancia[j][k] = distancia[j][i]+distancia[i][k]\n",
    "    return distancia\n",
    "\n",
    "def costo(combinacion, n, distancia, costos):\n",
    "    total = 0\n",
    "    for i in combinacion:\n",
    "        total += costos[i]\n",
    "    for i in range(n):\n",
    "        menor = 100000\n",
    "        for j in combinacion:\n",
    "            if (distancia[j][i] < menor):\n",
    "                menor = distancia[j][i]\n",
    "        total = total + menor\n",
    "    return total\n",
    "\n",
    "def LP2(arc, n):\n",
    "     \n",
    "    costos = []\n",
    "    combi = []\n",
    "    distancia = []\n",
    "    name = []\n",
    "    idents = []\n",
    "    archivo = open(arc, \"r\")  \n",
    "    k = int(archivo.readline())\n",
    "    for i in range (1,n):\n",
    "        lines = archivo.readline()\n",
    "        linea = lines.split(\" \")\n",
    "        name.append(linea[0])\n",
    "        idents.append(len(name)-1)\n",
    "        costos.append(int(linea[1]))\n",
    "        distancia.append([])\n",
    "        for j in range(2,n+1):\n",
    "            distancia[len(idents)-1].append(int(linea[j]))\n",
    "    for i in range(1,k+1):\n",
    "        comb = itertools.combinations(idents, i)\n",
    "        list_comb = [list(x) for x in comb]\n",
    "        for j in list_comb:\n",
    "            combi.append(j)\n",
    "    distancia = floyd_warshall(dist)\n",
    "    menor = 100000\n",
    "    abrir = []\n",
    "    for i in range(len(combi)):        \n",
    "        cost = costo(combi[i], len(idents), distancia, costos)\n",
    "        if (cost < menor):\n",
    "            menor = cost\n",
    "            abrir = combi[i]      \n",
    "    output = open(arc.replace(\"input\", \"output\"), \"w\")\n",
    "    output.write(str(menor) + \"\\n\")\n",
    "    for i in abrir:\n",
    "        output.write(name[i] + \",\")  \n",
    "    print \"Se abre en \", abrir, \"con un costo de \", menor\n",
    "        \n",
    "\n"
   ]
  },
  {
   "cell_type": "code",
   "execution_count": null,
   "metadata": {
    "collapsed": true
   },
   "outputs": [],
   "source": [
    "LP2(\"input_n5_k3_c\", 5)"
   ]
  },
  {
   "cell_type": "markdown",
   "metadata": {},
   "source": [
    "Analisis del tiempo de ejecucion"
   ]
  },
  {
   "cell_type": "code",
   "execution_count": null,
   "metadata": {
    "collapsed": true
   },
   "outputs": [],
   "source": [
    "\n",
    "class Counter:\n",
    "    '''\n",
    "    Class Counter\n",
    "    Implements a step counter, which is used to compute the number of basic operations performed in\n",
    "    a particular call to a function.\n",
    "    '''\n",
    "    def __init__(self):\n",
    "        self.steps = 0\n",
    "\n",
    "    def reset(self):\n",
    "        self.steps = 0\n",
    "\n",
    "    def count(self):\n",
    "        self.steps += 1\n",
    "\n",
    "    def print_steps(self):\n",
    "        print \"Número de pasos =\", self.steps\n",
    "        \n",
    "def floyd_warshall(distancia):    \n",
    "    for i in range(len(distancia)):\n",
    "        for j in range(len(distancia)):\n",
    "            for k in range(len(distancia)):\n",
    "                if(distancia[j][i]+distancia[i][k]<distancia[j][k]):\n",
    "                    distancia[j][k] = distancia[j][i]+distancia[i][k]\n",
    "    return distancia\n",
    "\n",
    "def costo(combinacion, n, distancia, costos):\n",
    "    total = 0\n",
    "    for i in combinacion:\n",
    "        total += costos[i]\n",
    "    for i in range(n):\n",
    "        menor = 100000\n",
    "        for j in combinacion:\n",
    "            if (distancia[j][i] < menor):\n",
    "                menor = distancia[j][i]\n",
    "        total = total + menor\n",
    "    return total\n",
    "\n",
    "def LP2(arc, n):\n",
    "     \n",
    "    costos = []\n",
    "    combi = []\n",
    "    distancia = []\n",
    "    name = []\n",
    "    idents = []\n",
    "    archivo = open(arc, \"r\")  \n",
    "    k = int(archivo.readline())\n",
    "    for i in range (1,n):\n",
    "        lines = archivo.readline()\n",
    "        linea = lines.split(\" \")\n",
    "        name.append(linea[0])\n",
    "        idents.append(len(name)-1)\n",
    "        costos.append(int(linea[1]))\n",
    "        distancia.append([])\n",
    "        for j in range(2,n+1):\n",
    "            distancia[len(idents)-1].append(int(linea[j]))\n",
    "    for i in range(1,k+1):\n",
    "        comb = itertools.combinations(idents, i)\n",
    "        list_comb = [list(x) for x in comb]\n",
    "        for j in list_comb:\n",
    "            combi.append(j)\n",
    "    distancia = floyd_warshall(dist)\n",
    "    menor = 100000\n",
    "    abrir = []\n",
    "    for i in range(len(combi)):        \n",
    "        cost = costo(combi[i], len(idents), distancia, costos)\n",
    "        if (cost < menor):\n",
    "            menor = cost\n",
    "            abrir = combi[i]      \n",
    "    output = open(arc.replace(\"input\", \"output\"), \"w\")\n",
    "    output.write(str(menor) + \"\\n\")\n",
    "    for i in abrir:\n",
    "        output.write(name[i] + \",\")  \n",
    "    print \"Se abre en \", abrir, \"con un costo de \", menor        "
   ]
  },
  {
   "cell_type": "code",
   "execution_count": null,
   "metadata": {
    "collapsed": true
   },
   "outputs": [],
   "source": [
    "acct = Counter()\n",
    "acct_LP2(\"input_n10_k3_c\", acct, 10)\n",
    "acct.print_steps()"
   ]
  },
  {
   "cell_type": "markdown",
   "metadata": {},
   "source": [
    "Analisis del tiempo experimental"
   ]
  },
  {
   "cell_type": "code",
   "execution_count": null,
   "metadata": {
    "collapsed": true
   },
   "outputs": [],
   "source": [
    "def exper_analysis(n):\n",
    "    results = []\n",
    "    acct = Counter()\n",
    "    for i in range(2, n+1):\n",
    "        acct.reset()\n",
    "        acct_PL2(\"input_n10_k3_c\", acct, i)\n",
    "        results.append(acct.steps)\n",
    "    return results\n",
    "print exper_analysis(7)"
   ]
  },
  {
   "cell_type": "code",
   "execution_count": null,
   "metadata": {
    "collapsed": true
   },
   "outputs": [],
   "source": [
    "import time\n",
    "def time_analysis(n):\n",
    "    results = []\n",
    "    for i in range(2, n+1):\n",
    "        tic = time.clock()\n",
    "        LP2(\"input_n10_k3_c\", i)\n",
    "        toc = time.clock()\n",
    "        results.append((toc-tic)*100000)\n",
    "    return results\n",
    "\n",
    "print time_analysis(7)"
   ]
  },
  {
   "cell_type": "code",
   "execution_count": null,
   "metadata": {
    "collapsed": true
   },
   "outputs": [],
   "source": [
    "import random as rnd\n",
    "import numpy as np\n",
    "\n",
    "def teoric_analysis(n):\n",
    "    results = []\n",
    "    for i in range(2,n+1):\n",
    "        l = i*i*np.log(i)\n",
    "        results.append(l)\n",
    "    return results\n",
    "print teoric_analysis(7)"
   ]
  },
  {
   "cell_type": "code",
   "execution_count": null,
   "metadata": {
    "collapsed": true
   },
   "outputs": [],
   "source": [
    "import pylab as pl\n",
    "%matplotlib inline\n",
    "\n",
    "pl.clf()\n",
    "x = np.arange(4,11)\n",
    "y = np.array(exper_analysis(7))\n",
    "pl.plot(x, y, 'k.', color ='r')\n",
    "z = np.array(teoric_analysis(7))\n",
    "pl.plot(x, z, 'k.', color='c')\n",
    "w = np.array(time_analysis(10))\n",
    "pl.plot(x, w, 'k.', color='g')"
   ]
  }
 ],
 "metadata": {
  "kernelspec": {
   "display_name": "Python 3",
   "language": "python",
   "name": "python3"
  },
  "language_info": {
   "codemirror_mode": {
    "name": "ipython",
    "version": 3
   },
   "file_extension": ".py",
   "mimetype": "text/x-python",
   "name": "python",
   "nbconvert_exporter": "python",
   "pygments_lexer": "ipython3",
   "version": "3.5.2"
  }
 },
 "nbformat": 4,
 "nbformat_minor": 1
}
