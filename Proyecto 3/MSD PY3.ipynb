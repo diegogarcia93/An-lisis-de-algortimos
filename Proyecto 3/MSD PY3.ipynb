{
 "cells": [
  {
   "cell_type": "markdown",
   "metadata": {},
   "source": [
    "                                                PROYECTO 3\n",
    "                                                \n",
    "(MST). Dado un grafo G = (V, E) con n vertices y m aristas. (El grafo podría representar una red telefónica). Cada arista es coloreada azul o roja. Tambien esta dado un parámetro k como parte de la entrada. Proponga un algoritmo que encuentre un árbol de expansión sobre G con exactamente k aristas azules, y exactamente n-k-1 aristas rojas. Determine el tiempo de ejecución del algoritmo y muestre que es correcto."
   ]
  },
  {
   "cell_type": "code",
   "execution_count": null,
   "metadata": {
    "collapsed": true
   },
   "outputs": [],
   "source": [
    "import networkx\n",
    "import itertools\n",
    "import logging\n",
    "import time\n",
    "import math\n",
    "import numpy as np\n",
    "import pylab as pl"
   ]
  },
  {
   "cell_type": "code",
   "execution_count": null,
   "metadata": {
    "collapsed": true
   },
   "outputs": [],
   "source": [
    "def abrir_Archivo(arc):\n",
    "    lines = [line.rstrip(\"\\n\") for line in open(arc)]\n",
    "    N = int(lines[0])\n",
    "    K = int(lines[1])\n",
    "    L = []\n",
    "    i = 0\n",
    "    for l in lines[2:]:\n",
    "        t = l.split(',',N - i)\n",
    "        i -= 1\n",
    "        q = (i * -1) - 1\n",
    "        for j in t:\n",
    "            if(j != 'Inf'):\n",
    "                tokens = j.split('/',1)\n",
    "                u = ((i * -1) - 1)\n",
    "                L.append((u,q, int(tokens[0]) , tokens[1]))\n",
    "            q+=1\n",
    "    return N, K, L\n",
    "\n",
    "\n",
    "class arista:\n",
    "    def __init__(self,origen,destino,color,peso):\n",
    "        self.origen=origen\n",
    "        self.destino=destino\n",
    "        self.color=color\n",
    "        self.peso=peso\n",
    "\n",
    "def OrderEdge(gra):\n",
    "    lista=[]\n",
    "    repetido=[]\n",
    "    for u in graph:\n",
    "        origen=u\n",
    "        for v in graph[u]:\n",
    "            destino=v\n",
    "            for x in gra[u][v]:\n",
    "                if(x=='R' or x=='B'):\n",
    "                    color=x\n",
    "                if(x!='R' or x!='B'):\n",
    "                    peso=x\n",
    "            if(not destino in repetido):        \n",
    "                a=arista(origen,destino,color,peso)\n",
    "                lis.append(a)\n",
    "        repetido.append(origen)\n",
    "    ordena(lista)\n",
    "    return lista        \n",
    "\n",
    "        \n",
    "def ordena(l):\n",
    "    for c in range(1,len(l)):\n",
    "        for x in range(len(l)-1):\n",
    "            if l[x].peso>l[x+1].peso:\n",
    "                aux=l[x]\n",
    "                l[x]=l[x+1]\n",
    "                l[x+1]=aux"
   ]
  },
  {
   "cell_type": "code",
   "execution_count": null,
   "metadata": {
    "collapsed": true
   },
   "outputs": [],
   "source": [
    "def MST(lista,k,n):\n",
    "    azules=k\n",
    "    rojas=n-k-1\n",
    "    cazul=0\n",
    "    croja=0\n",
    "    res=[]\n",
    "    valor=0\n",
    "    print(\"K:\",k)\n",
    "    print(\"n-k-1:\",rojas)\n",
    "    for i in lista:\n",
    "        introducir=False\n",
    "        if(i.color=='R'):\n",
    "            if(croja<rojas):\n",
    "                introducir=True\n",
    "                croja=croja+1\n",
    "        if(i.color=='B'):\n",
    "            if(cazul<azules):\n",
    "                introducir=True\n",
    "                cazul=cazul+1\n",
    "        if(introducir):\n",
    "            arbol={i.origen:{i.destino: i.color}}\n",
    "            res.append(arbol)\n",
    "            valor=valor+i.peso\n",
    "    print(\"Peso: \",valor)\n",
    "    print(\"Aristas Azules: \",cazul)\n",
    "    print(\"Aristas Rojas: \",crojo)\n",
    "    return res;"
   ]
  },
  {
   "cell_type": "code",
   "execution_count": null,
   "metadata": {
    "collapsed": true
   },
   "outputs": [],
   "source": [
    "g,nod,color=abrirArchivo(\"input_n8_b5_r2\")\n",
    "aristas=OrderEdge(g)\n",
    "print (MST(aristas,color,nod))"
   ]
  },
  {
   "cell_type": "markdown",
   "metadata": {},
   "source": [
    "Segundo Algoritmo"
   ]
  },
  {
   "cell_type": "code",
   "execution_count": null,
   "metadata": {
    "collapsed": true
   },
   "outputs": [],
   "source": [
    "import numpy as np\n",
    "import re\n",
    "from collections import namedtuple"
   ]
  },
  {
   "cell_type": "code",
   "execution_count": null,
   "metadata": {
    "collapsed": true
   },
   "outputs": [],
   "source": [
    "def crearMatriz():\n",
    "    tupla=nombreTupla(\"tupla\",[\"primero\",\"segundo\"])\n",
    "    a=np.zeros()\n",
    "    return a\n",
    "\n",
    "def coneccion(a,x,y):\n",
    "    return c[x][y]\n",
    "\n",
    "def listaDeConecciones(a,x,zetha):\n",
    "    tam=len(a)\n",
    "    lista=[]\n",
    "    for i in range (tam):\n",
    "        if a[x,i] != inf:\n",
    "            lista.insert(c)\n",
    "    return    \n",
    "\n",
    "def encontrar (vert)    \n",
    "    if padre[vert]!= vert:\n",
    "        padre[vert]=encontrar(padre[vert])\n",
    "    return padre[vert]  \n",
    "\n",
    "\n",
    "def prioridad(a):\n",
    "    for i\n",
    "    padre=dict()\n",
    "    num= dict()\n",
    "    "
   ]
  },
  {
   "cell_type": "code",
   "execution_count": null,
   "metadata": {
    "collapsed": true
   },
   "outputs": [],
   "source": [
    "def unir(vert1, vert2):\n",
    "    raiz1 = encontrar(vert1)\n",
    "    raiz2 = encontrar(vert2)\n",
    "    if raiz1 != raiz2:\n",
    "        if num[raiz1] < num[raiz2]:\n",
    "            padre[raiz1] = raiz2\n",
    "        else:\n",
    "            padre[riaz2]= raiz1\n",
    "            if num[raiz1] == num[raiz2]:\n",
    "                num[raiz2] += 1 \n",
    "    \n",
    "def modificar(vert):\n",
    "    padre[vert]=vert\n",
    "    num[vert]=0\n",
    "    "
   ]
  },
  {
   "cell_type": "code",
   "execution_count": null,
   "metadata": {
    "collapsed": true
   },
   "outputs": [],
   "source": [
    "\n",
    "\n",
    "\n",
    "\n",
    "def kruskal (graph, azul,rojo,k,n)\n",
    "    for vert in graph['vertices']:\n",
    "        modificar(vert)\n",
    "    arbolExpansionMin = set()\n",
    "    limites = list(graph['limites'])\n",
    "    limites.sort()\n",
    "    for limite in limites:\n",
    "        peso, vert1, vert2 =limite\n",
    "        if encontrar(vert1) != encontrar(vert2):\n",
    "            unir(vert1,vert2)\n",
    "            arbolExpansionMin.add(limite)\n",
    "    return arbolExpansionMin\n",
    "\n",
    "def merge(red,blue,n,matriz,k,x):\n",
    "    x= crearMatriz()\n",
    "    for i in range(0,matriz)\n",
    "        for j in range(0,matriz):\n",
    "            if red[k,i]==blue[x,j]:\n",
    "                n[k,i] = red[k,i]\n",
    "                return merge(red,blue,n,matriz,k+1,x+1)\n",
    "            else:\n",
    "                if red[k,i]<blue[x,j]:\n",
    "                    x[k,i]= red[k,i]\n",
    "                    return merge(red,blue,n,matriz,k,x+1)\n",
    "                else:\n",
    "                    x[k,i]=blue[x,j]\n",
    "                    return merge(red,blue,n,matriz,k+1,x)\n",
    "                \n",
    "graph = {\n",
    "        'vertices': ['A','B','C','D','E','F'],\n",
    "        'limites': set([(7,'B','C'),(35,'B','D'),(21,'C','D'),\n",
    "                        (28,'A','B'),(14,'A','C'),(3,'A','D')])\n",
    "       \n",
    "}\n",
    "\n",
    "arbolExpansionMin = set ([(7,'B','C'),(14,'A','C'),(3,'A','D')])\n",
    "assert kruskañ(graph) == arbolExpansionMin\n",
    "rojo=0\n",
    "azul=1\n",
    "\n",
    "\n",
    "\n",
    "\n",
    "def leer(arc):\n",
    "    file=open(arc,'r')\n",
    "    matriz = file.readfile()\n",
    "    k=file.readline()\n",
    "    n=matriz-k-1\n",
    "    k=int(k)\n",
    "    n=int(n)\n",
    "    rojo=0\n",
    "    azul=0\n",
    "    vec=[]\n",
    "    vec=crearMatriz()\n",
    "    millos=crearMatriz()\n",
    "    river=crearMatriz()\n",
    "    matriz = int(matriz)\n",
    "    river = kruskal(matriz,azul,rojo,k,n)\n",
    "    millos= kruskal(matriz,azul,rojo,k,n)\n"
   ]
  }
 ],
 "metadata": {
  "kernelspec": {
   "display_name": "Python 3",
   "language": "python",
   "name": "python3"
  },
  "language_info": {
   "codemirror_mode": {
    "name": "ipython",
    "version": 3
   },
   "file_extension": ".py",
   "mimetype": "text/x-python",
   "name": "python",
   "nbconvert_exporter": "python",
   "pygments_lexer": "ipython3",
   "version": "3.5.2"
  }
 },
 "nbformat": 4,
 "nbformat_minor": 1
}
