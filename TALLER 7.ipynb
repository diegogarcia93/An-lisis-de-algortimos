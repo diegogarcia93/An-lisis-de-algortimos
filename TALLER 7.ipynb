{
 "cells": [
  {
   "cell_type": "markdown",
   "metadata": {},
   "source": [
    "TALLER 7\n",
    "\n",
    "PRIMER PUNTO"
   ]
  },
  {
   "cell_type": "code",
   "execution_count": null,
   "metadata": {
    "collapsed": true
   },
   "outputs": [],
   "source": [
    "# create the plot object\n",
    "fig, ax = plt.subplots(figsize=(8, 8))\n",
    "x1 = np.linspace(0, 1000)\n",
    "\n",
    "# add 1st constraint:\n",
    "plt.plot(x1, 800 - x1, lw=3, label=r'$x_1+x_2\\geq 800$')\n",
    "plt.fill_between(x1, 1000, 800 - x1, alpha=0.1)\n",
    "\n",
    "# add 2nd constraint:\n",
    "plt.plot(x1, 0.21*x1/0.3, lw=3, label=r'$0.21x_1-0.3x_2\\leq 0$')\n",
    "plt.fill_between(x1, 1000,0.21*x1/0.3, alpha=0.1)\n",
    "\n",
    "# add 3rd constraint:\n",
    "plt.plot(x1, 0.03*x1/0.01, lw=3, label=r'$0.03x_1-0.01x_2\\geq 0$')\n",
    "plt.fill_betweenx(x1,0.01*x1/0.03,1000, alpha=0.1)\n",
    "\n",
    "# add non-negativity constraints\n",
    "plt.plot(np.zeros_like(x1), x1, lw=3, label=r'$x_2\\geq 0$')\n",
    "plt.plot(x1, np.zeros_like(x1), lw=3, label=r'$x_1\\geq 0$')\n",
    "\n",
    "# highlight the feasible region\n",
    "#path = Path([\n",
    "#    (0., 0.),\n",
    "#    (0., 6.),\n",
    "#    (2., 6.),\n",
    "#    (4., 2.),\n",
    "#    (4., 0.),\n",
    "#    (0., 0.),\n",
    "#])\n",
    "#patch = PathPatch(path, label='feasible region', alpha=0.5)\n",
    "#ax.add_patch(patch)\n",
    "\n",
    "# labels and stuff\n",
    "plt.xlabel(r'$x_1$', fontsize=16)\n",
    "plt.ylabel(r'$x_2$', fontsize=16)\n",
    "plt.xlim(-0.1, 1000)\n",
    "plt.ylim(-0.1, 1000)\n",
    "plt.legend(fontsize=14)\n",
    "plt.show()"
   ]
  },
  {
   "cell_type": "markdown",
   "metadata": {},
   "source": [
    "PUNTO DOS"
   ]
  },
  {
   "cell_type": "code",
   "execution_count": null,
   "metadata": {
    "collapsed": true
   },
   "outputs": [],
   "source": [
    "# create the plot object\n",
    "fig, ax = plt.subplots(figsize=(8, 8))\n",
    "x1 = np.linspace(0, 1000)\n",
    "\n",
    "# add 1st constraint:\n",
    "plt.plot(x1, 1000 - 2*x1, lw=3, label=r'$2x_1+x_2\\leq 1000$')\n",
    "plt.fill_between(x1,0, 1000 - 2*x1, alpha=0.1)\n",
    "\n",
    "# add 2nd constraint:\n",
    "plt.plot(x1, 800-x1, lw=3, label=r'$x_1+x_2\\leq 800$')\n",
    "plt.fill_between(x1,0,800-x1, alpha=0.1)\n",
    "\n",
    "# add 3rd constraint:\n",
    "plt.plot(np.ones_like(x1)*350,x1, lw=3, label=r'$x_1\\leq 350$')\n",
    "plt.fill_betweenx(x1, 0,350, alpha=0.1)\n",
    "\n",
    "# add non-negativity constraints\n",
    "plt.plot(np.zeros_like(x1), x1, lw=3, label=r'$x_2\\geq 0$')\n",
    "plt.plot(x1, np.zeros_like(x1), lw=3, label=r'$x_1\\geq 0$')\n",
    "\n",
    "# highlight the feasible region\n",
    "#path = Path([\n",
    "#    (0., 0.),\n",
    "#    (0., 6.),\n",
    "#    (2., 6.),\n",
    "#    (4., 2.),\n",
    "#    (4., 0.),\n",
    "#    (0., 0.),\n",
    "#])\n",
    "#patch = PathPatch(path, label='feasible region', alpha=0.5)\n",
    "#ax.add_patch(patch)\n",
    "\n",
    "# labels and stuff\n",
    "plt.xlabel(r'$x_1$', fontsize=16)\n",
    "plt.ylabel(r'$x_2$', fontsize=16)\n",
    "plt.xlim(-0.1, 1000)\n",
    "plt.ylim(-0.1, 1000)\n",
    "plt.legend(fontsize=14)\n",
    "plt.show()"
   ]
  },
  {
   "cell_type": "markdown",
   "metadata": {},
   "source": [
    "PUNTO 2\n",
    "\n",
    "Assignment\n",
    "\n",
    "For each example problem above:\n",
    "Describe the dual version of the problem.\n",
    "     \n",
    "             MAX         - 800Y1               (1)\n",
    "             s.t -y1 + 0.21y2 - 0.03y3 >= 0,3  (2)\n",
    "                 -y1 -  0.3y2 + 0.01y3 >= 0,9  (3)\n",
    "                                 x1,x2 >= 0    (4)\n",
    "    \n",
    "\n",
    "\n",
    "                min    1000y1 + 2y2 + y3         (1)\n",
    "                        800y1 +  y2 + y3 >= 30   (2)\n",
    "                           y1 +  y2      >= 20   (3)\n",
    "                            x1,x2        >=  0\n",
    "                            \n",
    "                            \n",
    "Solve the dual problem using the graphical method."
   ]
  }
 ],
 "metadata": {
  "kernelspec": {
   "display_name": "Python 3",
   "language": "python",
   "name": "python3"
  },
  "language_info": {
   "codemirror_mode": {
    "name": "ipython",
    "version": 3
   },
   "file_extension": ".py",
   "mimetype": "text/x-python",
   "name": "python",
   "nbconvert_exporter": "python",
   "pygments_lexer": "ipython3",
   "version": "3.5.2"
  }
 },
 "nbformat": 4,
 "nbformat_minor": 1
}
