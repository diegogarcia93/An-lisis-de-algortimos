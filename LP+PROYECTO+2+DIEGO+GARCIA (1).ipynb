{
 "cells": [
  {
   "cell_type": "markdown",
   "metadata": {},
   "source": [
    "                                                PROYECTO 2\n",
    "                                                \n",
    "                                                \n",
    "(LP) Suponga que se planea contruir una nueva cadena de tiendas en una ciudad dada, usted tiene identificado una serie de ubicaciones potenciales en diferentes barrios. Además asuma que la demanda de productos en cada barrio de la ciudad es conocida. Si usted quiere construir exactamente k tiendas,  ¿dónde debería localizarlas de forma que minimice la distancia promedio de los clientes? ¿Si en lugar usted dese construir una cantidad variable de tiendas, y el costo de construir una tienda en cada sitio es conocido, ¿dónde debería construir las tiendas de forma que minimice el costo total del construcción y la distancia promedio de los clientes?                                                "
   ]
  },
  {
   "cell_type": "code",
   "execution_count": null,
   "metadata": {
    "collapsed": true
   },
   "outputs": [],
   "source": [
    "import networkx\n",
    "import itertools\n",
    "import loggin\n",
    "import time\n",
    "import math\n",
    "import numpy as np\n",
    "import pylab as pl"
   ]
  },
  {
   "cell_type": "code",
   "execution_count": null,
   "metadata": {
    "collapsed": true
   },
   "outputs": [],
   "source": [
    "def distanciaHamming(cdn1,cdn2):\n",
    "    dist=0\n",
    "    for ltr1,ltr2 in zip(cdn1, cdn2):\n",
    "        if ch1 != ch2:\n",
    "            dist+=1\n",
    "    return dist       \n",
    "def hamming_binary(chromosome_len,d):\n",
    "    \"\"\"Generate a binary Hamming Graph, where each genotype is composed by chromosome_len bases and each base can take only two values. H(chromosome_len, 2). \n",
    "    \n",
    "    steps to generate an Hamming graph:\n",
    "    \n",
    "     * create 2^chromosome_len nodes, each for a different binary string\n",
    "     * for each node, find the connected nodes by flipping one position at a time.\n",
    "    \"\"\"\n",
    "    space = networkx.Graph()\n",
    "    # create all nodes\n",
    "    l = [\"01\"] * chromosome_len \n",
    "    all_nodes = itertools.product(*l)\n",
    "    all_nodes = [''.join(x) for x in all_nodes]\n",
    "    logging.debug(all_nodes)\n",
    "    space.add_nodes_from(all_nodes) \n",
    "    \n",
    "    # for each node, find neighbors\n",
    "    for node in space.nodes():    \n",
    "            #[space.add_edge(node, mutate_node(node, base)) for base in range(chromosome_len)]\n",
    "            for vert in space.nodes():\n",
    "                if(vert!= node) distancia=distanciaHamming(node,vert)\n",
    "                    if(dist >= d) space.add_edge(node,vert)\n",
    "    return space"
   ]
  },
  {
   "cell_type": "code",
   "execution_count": 1,
   "metadata": {
    "collapsed": true
   },
   "outputs": [],
   "source": [
    "def mutate_node(node, n):\n",
    "    # wonder if there is some binary utils package for python\n",
    "    if node[n] == '0':\n",
    "        newbase = '1'\n",
    "    else:\n",
    "        newbase = '0'\n",
    "    new_node = node[0:n] + newbase + node[n+1:]\n",
    "    return new_node"
   ]
  },
  {
   "cell_type": "code",
   "execution_count": null,
   "metadata": {
    "collapsed": true
   },
   "outputs": [],
   "source": [
    "def experAnalysis(N):\n",
    "    vec=[]\n",
    "    for i in range(N):\n",
    "        inicio=time.clock()\n",
    "        lapso=hamming_binary(i,2)\n",
    "        fin=time.clock()\n",
    "        vec.append(fin-inicio)\n",
    "    return vec    \n",
    "N=5\n",
    "print experAnalysis(N)\n",
    "\n",
    "pl.clf()\n",
    "x = np.arange(100)\n",
    "y = np.array(exper_analysis(100))\n",
    "pl.plot(x, y, 'k.')"
   ]
  }
 ],
 "metadata": {
  "kernelspec": {
   "display_name": "Python 3",
   "language": "python",
   "name": "python3"
  },
  "language_info": {
   "codemirror_mode": {
    "name": "ipython",
    "version": 3
   },
   "file_extension": ".py",
   "mimetype": "text/x-python",
   "name": "python",
   "nbconvert_exporter": "python",
   "pygments_lexer": "ipython3",
   "version": "3.5.2"
  }
 },
 "nbformat": 4,
 "nbformat_minor": 1
}
