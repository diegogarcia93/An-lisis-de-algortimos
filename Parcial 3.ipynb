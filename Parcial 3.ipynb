{
 "cells": [
  {
   "cell_type": "markdown",
   "metadata": {},
   "source": [
    "PARCIAL 3"
   ]
  },
  {
   "cell_type": "markdown",
   "metadata": {},
   "source": [
    "6. Describa un algoritmo que determine en tiempo O(n2 lg n) si existen tres puntos colineales de un conjunto de n puntos dados\n"
   ]
  },
  {
   "cell_type": "code",
   "execution_count": null,
   "metadata": {
    "collapsed": true
   },
   "outputs": [],
   "source": [
    "import numpy as np\n",
    "import math\n",
    "%matplotlib inline\n",
    "from matplotlib import pyplot as plt\n",
    "from matplotlib.path import Path\n",
    "from matplotlib.patches import PathPatch\n",
    "\n",
    "class coordenadas_conj:\n",
    "    def __init__(self,coordenadas,repeticiones):\n",
    "        self.coordenadas=coordenadas\n",
    "        self.repeticiones=repeticiones\n",
    "def hacerParte(lista, pto):\n",
    "    for l in lista:\n",
    "        if(pto==l.angulo):\n",
    "            l.repeticiones=l.repeticiones+1\n",
    "            return True;        \n",
    "    return False;\n",
    "def coordenadas(pos1,pos2):\n",
    "    if(pos2[0]-pos1!=0):\n",
    "        x=(pos2[1]-pos1[1])/(pos2[0]-pos1[0]);\n",
    "    if(pos2[0]-pos1[0]==0):\n",
    "        print(pos2[0],pos1[0],pos2[0]-pos1[0])\n",
    "        x=(pos2[0]-pos1[0])/(pos2[1]-pos1[1]);\n",
    "    if(po2==[0,0]):\n",
    "        return 0;\n",
    "    coordenada= np.arctan(x)\n",
    "    return coordenada;\n",
    "def puntos_colineal(pts):\n",
    "    existe=[]\n",
    "    for puntos in pts:\n",
    "        p=puntos\n",
    "        coordenadas=[]\n",
    "        for puntos in pts:\n",
    "            if(puntos!=p):\n",
    "                coor=coord(p,puntos)\n",
    "                if(coor!=0):\n",
    "                    coordenadas.append(coor);\n",
    "        for a in range(len(coordenadas)):\n",
    "            boole=hacerParte(existe, coordenadas[a])\n",
    "            if(boole==False):\n",
    "                cc=coordenadas_conj(coordenadas[a],1)\n",
    "                existe.append(cc)\n",
    "            p=puntos   \n",
    "    for i in existe:\n",
    "        if(i.repeticiones<3):\n",
    "            print(\"No hay puntos colineales\")\n",
    "        else:\n",
    "            print(\"Los puntos colineales son: \",l.angulo);\n",
    "        "
   ]
  }
 ],
 "metadata": {
  "kernelspec": {
   "display_name": "Python 3",
   "language": "python",
   "name": "python3"
  },
  "language_info": {
   "codemirror_mode": {
    "name": "ipython",
    "version": 3
   },
   "file_extension": ".py",
   "mimetype": "text/x-python",
   "name": "python",
   "nbconvert_exporter": "python",
   "pygments_lexer": "ipython3",
   "version": "3.5.2"
  }
 },
 "nbformat": 4,
 "nbformat_minor": 1
}
