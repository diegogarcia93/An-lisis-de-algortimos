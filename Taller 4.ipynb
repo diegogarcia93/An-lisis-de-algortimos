{
 "cells": [
  {
   "cell_type": "markdown",
   "metadata": {},
   "source": [
    "TALLER 4\n",
    "\n"
   ]
  },
  {
   "cell_type": "markdown",
   "metadata": {},
   "source": [
    "1.Implemente un método que retorne la subsecuencia común más larga (SCL)\n",
    "apartir de la matriz C construida por el algoritmo de PD que calcula la longitud de la SCL"
   ]
  },
  {
   "cell_type": "code",
   "execution_count": null,
   "metadata": {
    "collapsed": true
   },
   "outputs": [],
   "source": [
    "import numpy as np\n",
    "\n",
    "global C\n",
    "\n",
    "def lcs(X,Y):\n",
    "    global C\n",
    "    C = np.ones((len(X)+1,len(Y)+1))*-1\n",
    "    lcs3(X,Y,len(X),len(Y))\n",
    "    return C[len(X),len(Y)], C   \n",
    "\n",
    "def lcs3(x,y,i,j):\n",
    "    global C\n",
    "    if C[i,j] == -1:\n",
    "        if i == 0 or j == 0:\n",
    "            C[i,j] = 0\n",
    "        if i!=0 or j!=0\n",
    "            if x[i-1]==y[j-1]:\n",
    "                C[i,j] = lcs3(x,y,i-1,j-1)+1\n",
    "            if x[i-1]!=y[j-1]:\n",
    "                C[i,j] = max(lcs3(x,y,i-1,j),lcs3(x,y,i,j-1))\n",
    "                \n",
    "    return C[i,j]"
   ]
  },
  {
   "cell_type": "code",
   "execution_count": null,
   "metadata": {
    "collapsed": true
   },
   "outputs": [],
   "source": [
    "def imprimir(matriz, X):\n",
    "    cont = 1\n",
    "    lenght = []\n",
    "    for i in range(1, len(mat)):\n",
    "        for j in range(1, len(mat[0])):\n",
    "            if count == mat[i,j]:\n",
    "                cont = cont+1\n",
    "                lenght.append(X[j-1])\n",
    "                \n",
    "    return lenght"
   ]
  },
  {
   "cell_type": "code",
   "execution_count": null,
   "metadata": {
    "collapsed": false
   },
   "outputs": [],
   "source": [
    "word1 = 'ABC'\n",
    "word2 = 'AWBDC'\n",
    "len_lcs = lcs(word1, word2)\n",
    "lcs_mat = lcs(word1, word2)\n",
    "listaPalabras = imprimir(lcs_mat, word2)\n",
    "\n",
    "print lcs_mat\n",
    "print \"\\n\"\n",
    "for i in range(0, len(listaPalabras)):\n",
    "    print listaPalabras[i]"
   ]
  },
  {
   "cell_type": "markdown",
   "metadata": {},
   "source": [
    "2.Para el problema del corte de la barilla \n",
    "2.1 Implemente un método para determinar los cortes que se deben realizar a partir de la solución de PD que encuentra el valor de la solución óptima."
   ]
  },
  {
   "cell_type": "code",
   "execution_count": null,
   "metadata": {
    "collapsed": true
   },
   "outputs": [],
   "source": [
    "def cortarBarraBU(p,n):\n",
    "    bar = [0] * (n+1)\n",
    "    bar[0] = 0\n",
    "    bar2 = [0] * (n+1)\n",
    "    \n",
    "    for j in range(1,n+1):\n",
    "        q = float('-inf')\n",
    "        for i in range(1,j+1):\n",
    "            a = p[i-1]\n",
    "            b = bar[j-i]\n",
    "            if q < a+b:\n",
    "                l = []\n",
    "                q=a+b\n",
    "                l.append(i)\n",
    "                if bar2[j-i] != 0:\n",
    "                    l = bar2[j-i]+l\n",
    "        bar[j]= l\n",
    "        bar[j] = q\n",
    "    return bar[n], bar2[n]"
   ]
  },
  {
   "cell_type": "code",
   "execution_count": null,
   "metadata": {
    "collapsed": true
   },
   "outputs": [],
   "source": [
    "p = [2,6,12,14,19,17,27,11]\n",
    "n = 6\n",
    "costMin= cortarBarraBU(p,n)\n",
    "cortar = cortarBarraBU(p,n)\n",
    "print \"COSTO MINIMO:\"\n",
    "print costMin\n",
    "print \"\\nCORTE:\"\n",
    "for i in range(0, len(cortar)):\n",
    "    print cortar[i]"
   ]
  },
  {
   "cell_type": "markdown",
   "metadata": {},
   "source": [
    "3.Implemente, describa y analice un algoritmo de PD para calcular la distancia de edición entre dos cadenas. (Cormen, problem 15-5)\n",
    "\n",
    "Para calcular la distancia de edición se hizo usó la distancia de Levenshtein la cual analiza tres casos puntuales: \n",
    "sustitución de un caracter.\n",
    "Eliminación\n",
    "Adición.\n",
    "Levenshtein analiza cual de los tres casos presenta un costo mínimo y lo añade a la matriz del costo. al finalizar las iteraciones, se muestra el costo mínimo en la ultima celda de la mariz."
   ]
  },
  {
   "cell_type": "code",
   "execution_count": null,
   "metadata": {
    "collapsed": true
   },
   "outputs": [],
   "source": [
    "def levenshtein(s1, s2):\n",
    "    cost = 0\n",
    "    tam1 = len(s1)\n",
    "    tam2 = len(s2)\n",
    "    m = np.empty((tam1+1, tam2+1))\n",
    "    \n",
    "    for i in range(0, tam1+1):\n",
    "        m[i,0] = i\n",
    "        \n",
    "    for i in range(1, tam2+1):\n",
    "        m[0,i] = i\n",
    "    \n",
    "    for i in range(1, tam1+1):\n",
    "        for j in range(1, tam2+1):\n",
    "            if s1[i-1] == s2[j-1]:\n",
    "                cost = 0\n",
    "            if s1[i-1] != s2[j-1]:\n",
    "                cost = 1\n",
    "            menor = min(m[i-1,j] + 1, m[i,j-1] + 1)\n",
    "            m[i,j] = min(menor, m[i-1,j-1]+cost)\n",
    "            \n",
    "    return m[tam1, tam2]"
   ]
  },
  {
   "cell_type": "code",
   "execution_count": null,
   "metadata": {
    "collapsed": true
   },
   "outputs": [],
   "source": [
    "s1 = \"hola\"\n",
    "s2 = \"mundo\"\n",
    "print levenshtein(s1, s2)"
   ]
  },
  {
   "cell_type": "markdown",
   "metadata": {},
   "source": [
    "4.En el rio atrato hay n embarcaderos, en cada uno de ellos se puede alquilar un bote para realizar un viaje rio abajo a otro embarcadero. Existe una tabla de tarifas que indica el costo del viaje del embarcadero i al j, para i, j = 1,2,...,n  (i<j),  puede pasar que un viaje de i a j sea más caro que una serie de viajes sucesivos intermedios, no hay un costo asociado a cambiar de bote en algún embarcadero. El problema consiste en diseñar un algoritmo de PD que determine el costo mínimo para cada par de puntos i,j.\n"
   ]
  },
  {
   "cell_type": "code",
   "execution_count": null,
   "metadata": {
    "collapsed": true
   },
   "outputs": [],
   "source": []
  }
 ],
 "metadata": {
  "kernelspec": {
   "display_name": "Python 3",
   "language": "python",
   "name": "python3"
  },
  "language_info": {
   "codemirror_mode": {
    "name": "ipython",
    "version": 3
   },
   "file_extension": ".py",
   "mimetype": "text/x-python",
   "name": "python",
   "nbconvert_exporter": "python",
   "pygments_lexer": "ipython3",
   "version": "3.5.2"
  }
 },
 "nbformat": 4,
 "nbformat_minor": 1
}
